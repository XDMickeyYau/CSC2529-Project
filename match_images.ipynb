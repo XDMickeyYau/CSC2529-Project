{
 "cells": [
  {
   "cell_type": "code",
   "execution_count": 1,
   "metadata": {},
   "outputs": [],
   "source": [
    "import cv2\n",
    "import os\n",
    "import itertools\n",
    "import argparse"
   ]
  },
  {
   "cell_type": "code",
   "execution_count": 2,
   "metadata": {},
   "outputs": [],
   "source": [
    "def read_img(hr_dir,sr_dir,file,seq):\n",
    "    name, ext = os.path.splitext(file)\n",
    "    hr = cv2.imread(os.path.join(hr_dir, name+ext))\n",
    "    sr = cv2.imread(os.path.join(sr_dir, name+seq+ext))\n",
    "    assert hr is not None and sr is not None, \"No corresponding SR image for HR\"\n",
    "    return hr, sr"
   ]
  },
  {
   "cell_type": "code",
   "execution_count": 3,
   "metadata": {},
   "outputs": [],
   "source": [
    "def write_img(sr_out,sr_out_dir,file,seq):\n",
    "    name, ext = os.path.splitext(file)\n",
    "    assert cv2.imwrite(os.path.join(sr_out_dir, name+seq+ext),sr_out)"
   ]
  },
  {
   "cell_type": "code",
   "execution_count": 4,
   "metadata": {},
   "outputs": [],
   "source": [
    "def match_size(hr,sr):\n",
    "    hr_shape = hr.shape[:2]\n",
    "    sr_shape = sr.shape[:2]\n",
    "    if hr_shape != sr_shape:\n",
    "        sr_out = cv2.resize(sr,hr_shape[::-1])\n",
    "    else:\n",
    "        sr_out = sr\n",
    "    return sr_out\n",
    "    "
   ]
  },
  {
   "cell_type": "markdown",
   "metadata": {},
   "source": [
    "Interface"
   ]
  },
  {
   "cell_type": "code",
   "execution_count": 5,
   "metadata": {},
   "outputs": [],
   "source": [
    "def match_size_single(hr_dir,sr_dir,file,seq=\"\"):\n",
    "    hr, sr = read_img(hr_dir,sr_dir,file,seq)\n",
    "    sr_out = match_size(hr, sr)\n",
    "    return sr_out"
   ]
  },
  {
   "cell_type": "code",
   "execution_count": 6,
   "metadata": {},
   "outputs": [],
   "source": [
    "def match_size_multiple(hr_dir,sr_dir,sr_out_dir,seqs=[\"\"]):\n",
    "    os.makedirs(sr_out_dir,exist_ok=True)\n",
    "    files = os.listdir(hr_dir)\n",
    "    print(\"files\",files)\n",
    "    for file, seq in itertools.product(files,seqs):\n",
    "        try:\n",
    "            sr_out = match_size_single(hr_dir,sr_dir,file,seq)\n",
    "            write_img(sr_out,sr_out_dir,file,seq)    \n",
    "        except Exception as e:\n",
    "            print(\"[ERROR]:\", e)  "
   ]
  },
  {
   "cell_type": "markdown",
   "metadata": {},
   "source": [
    "main"
   ]
  },
  {
   "cell_type": "code",
   "execution_count": 7,
   "metadata": {},
   "outputs": [],
   "source": [
    "if __name__ == '__main__':\n",
    "    parser = argparse.ArgumentParser(description='Image matching')\n",
    "    parser.add_argument('--hr_dir', help='name',required=True)\n",
    "    parser.add_argument('--sr_dir', help='name',required=True)\n",
    "    parser.add_argument('--sr_out_dir', help='name',required=True)\n",
    "    parser.add_argument('--seqs', nargs='*', help='name',required=False, default=[''])\n",
    "    args = parser.parse_args()\n",
    "    print(\"args\",args)\n",
    "    \n",
    "    hr_dir = args.hr_dir \n",
    "    sr_dir = args.sr_dir \n",
    "    sr_out_dir = args.sr_out_dir\n",
    "    seqs = args.seqs\n",
    "    match_size_multiple(hr_dir,sr_dir,sr_out_dir,seqs)\n",
    "    print(\"FINISHED\")"
   ]
  },
  {
   "cell_type": "code",
   "execution_count": 8,
   "metadata": {},
   "outputs": [],
   "source": [
    "#python3 match_images.py --hr_dir HR_raw --sr_dir HR_mismatch --sr_out_dir HR_match --seqs \"\""
   ]
  }
 ],
 "metadata": {
  "kernelspec": {
   "display_name": "Python 3.7.13 ('CSC2529')",
   "language": "python",
   "name": "python3"
  },
  "language_info": {
   "codemirror_mode": {
    "name": "ipython",
    "version": 3
   },
   "file_extension": ".py",
   "mimetype": "text/x-python",
   "name": "python",
   "nbconvert_exporter": "python",
   "pygments_lexer": "ipython3",
   "version": "3.7.13"
  },
  "orig_nbformat": 4,
  "vscode": {
   "interpreter": {
    "hash": "2ab471e004f2adbfc6b826cd2d1b682d0bba64343dcc48fbc9403112ac2d9b0b"
   }
  }
 },
 "nbformat": 4,
 "nbformat_minor": 2
}
