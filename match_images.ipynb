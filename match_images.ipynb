{
 "cells": [
  {
   "cell_type": "code",
   "execution_count": 134,
   "metadata": {},
   "outputs": [],
   "source": [
    "import cv2\n",
    "import os\n",
    "import itertools"
   ]
  },
  {
   "cell_type": "code",
   "execution_count": 135,
   "metadata": {},
   "outputs": [],
   "source": [
    "def read_img(hr_dir,sr_dir,file,seq):\n",
    "    name, ext = os.path.splitext(file)\n",
    "    hr = cv2.imread(os.path.join(hr_dir, name+ext))\n",
    "    sr = cv2.imread(os.path.join(sr_dir, name+seq+ext))\n",
    "    assert hr is not None and sr is not None\n",
    "    return hr, sr"
   ]
  },
  {
   "cell_type": "code",
   "execution_count": 136,
   "metadata": {},
   "outputs": [],
   "source": [
    "def write_img(sr_out,sr_out_dir,file,seq):\n",
    "    name, ext = os.path.splitext(file)\n",
    "    assert cv2.imwrite(os.path.join(sr_out_dir, name+seq+ext),sr_out)"
   ]
  },
  {
   "cell_type": "code",
   "execution_count": 137,
   "metadata": {},
   "outputs": [],
   "source": [
    "def match_size(hr,sr):\n",
    "    hr_shape = hr.shape[:2]\n",
    "    sr_shape = sr.shape[:2]\n",
    "    if hr_shape != sr_shape:\n",
    "        sr_out = cv2.resize(sr,hr_shape[::-1])\n",
    "    else:\n",
    "        sr_out = sr\n",
    "    return sr_out\n",
    "    "
   ]
  },
  {
   "cell_type": "markdown",
   "metadata": {},
   "source": [
    "Interface"
   ]
  },
  {
   "cell_type": "code",
   "execution_count": 138,
   "metadata": {},
   "outputs": [],
   "source": [
    "def match_size_single(hr_dir,sr_dir,file,seq=\"\"):\n",
    "    hr, sr = read_img(hr_dir,sr_dir,file,seq)\n",
    "    sr_out = match_size(hr, sr)\n",
    "    return sr_out"
   ]
  },
  {
   "cell_type": "code",
   "execution_count": 139,
   "metadata": {},
   "outputs": [],
   "source": [
    "def match_size_multiple(hr_dir,sr_dir,sr_out_dir,seqs=[\"\"]):\n",
    "    os.makedirs(sr_out_dir,exist_ok=True)\n",
    "    files = os.listdir(hr_dir)\n",
    "    print(\"files\",files)\n",
    "    for file, seq in itertools.product(files,seqs):\n",
    "        sr_out = match_size_single(hr_dir,sr_dir,file,seq)\n",
    "        write_img(sr_out,sr_out_dir,file,seq)    "
   ]
  },
  {
   "cell_type": "markdown",
   "metadata": {},
   "source": [
    "main"
   ]
  },
  {
   "cell_type": "code",
   "execution_count": 140,
   "metadata": {},
   "outputs": [],
   "source": [
    "def __main__():\n",
    "    hr_dir = \"HR_raw\"\n",
    "    sr_dir = \"HR_mismatch\"\n",
    "    sr_out_dir = \"HR_match\"\n",
    "    seqs = [\"\"]\n",
    "    match_size_multiple(hr_dir,sr_dir,sr_out_dir,seqs)"
   ]
  },
  {
   "cell_type": "code",
   "execution_count": 141,
   "metadata": {},
   "outputs": [],
   "source": [
    "#__main__()"
   ]
  }
 ],
 "metadata": {
  "kernelspec": {
   "display_name": "Python 3.7.13 ('CSC2529')",
   "language": "python",
   "name": "python3"
  },
  "language_info": {
   "codemirror_mode": {
    "name": "ipython",
    "version": 3
   },
   "file_extension": ".py",
   "mimetype": "text/x-python",
   "name": "python",
   "nbconvert_exporter": "python",
   "pygments_lexer": "ipython3",
   "version": "3.7.13"
  },
  "orig_nbformat": 4,
  "vscode": {
   "interpreter": {
    "hash": "2ab471e004f2adbfc6b826cd2d1b682d0bba64343dcc48fbc9403112ac2d9b0b"
   }
  }
 },
 "nbformat": 4,
 "nbformat_minor": 2
}
