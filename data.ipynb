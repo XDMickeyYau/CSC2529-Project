{
 "cells": [
  {
   "cell_type": "code",
   "execution_count": 44,
   "metadata": {},
   "outputs": [],
   "source": [
    "import random\n",
    "import numpy as np\n",
    "import os\n",
    "from os.path import join\n",
    "import torch\n",
    "from multiprocessing.dummy import Pool\n",
    "from tqdm import tqdm\n",
    "import cv2"
   ]
  },
  {
   "cell_type": "code",
   "execution_count": 45,
   "metadata": {},
   "outputs": [],
   "source": [
    "import matplotlib.pyplot as plt"
   ]
  },
  {
   "cell_type": "code",
   "execution_count": 46,
   "metadata": {},
   "outputs": [],
   "source": [
    "scale = 4\n",
    "dataset = \"CUFDE5\"\n",
    "in_dir = dataset+\"_RAW\"\n",
    "hr_dir = dataset+\"_HR\"\n",
    "lr_dir = dataset+f\"_LR_x{scale}\" \n",
    "ref_dir = dataset+f\"_Ref_x{scale}\" \n",
    "test = False\n",
    "mode=\"REGULAR\""
   ]
  },
  {
   "cell_type": "markdown",
   "metadata": {},
   "source": [
    "Function"
   ]
  },
  {
   "cell_type": "code",
   "execution_count": 47,
   "metadata": {},
   "outputs": [],
   "source": [
    "def show(img):\n",
    "    plt.imshow(cv2.cvtColor(img,cv2.COLOR_BGR2RGB))"
   ]
  },
  {
   "cell_type": "code",
   "execution_count": 48,
   "metadata": {},
   "outputs": [],
   "source": [
    "def downscale_LR(image,scale):\n",
    "\theightHR, widthHR = image.shape[:2]\n",
    "\theightLR, widthLR = heightHR // scale , widthHR // scale \n",
    "\treturn cv2.resize(image,(widthLR,heightLR), interpolation=cv2.INTER_CUBIC)"
   ]
  },
  {
   "cell_type": "code",
   "execution_count": 49,
   "metadata": {},
   "outputs": [],
   "source": [
    "def crop_ref(image, scale,offset=(0,0)):\n",
    "\theightHR, widthHR = image.shape[:2]\n",
    "\theightRef, widthRef = heightHR // scale , widthHR // scale \n",
    "\tdownRef, rightRef = offset\n",
    "\tcrop_coord = [downRef, downRef+heightRef, rightRef, rightRef+widthRef]\n",
    "\treturn image[downRef:downRef+heightRef, rightRef:rightRef+widthRef], crop_coord\n"
   ]
  },
  {
   "cell_type": "code",
   "execution_count": 50,
   "metadata": {},
   "outputs": [],
   "source": [
    "def crop_multi_ref(image, scale, mode=\"REGULAR\"):\n",
    "\theightHR, widthHR = image.shape[:2]\n",
    "\theightRef, widthRef = heightHR // scale , widthHR // scale \n",
    "\toffset = []\n",
    "\tif mode==\"REGULAR\":\n",
    "\t\toffsets = [\n",
    "\t\t\t((heightHR-heightRef) // 2,(widthHR-widthRef) // 2),\n",
    "\t\t\t((heightHR-heightRef) // 4,(widthHR-widthRef) // 4),\n",
    "\t\t\t((heightHR-heightRef) // 4,(widthHR-widthRef)*3 // 4),\n",
    "\t\t\t((heightHR-heightRef)*3 // 4,(widthHR-widthRef) // 4),\n",
    "\t\t\t((heightHR-heightRef)*3 // 4,(widthHR-widthRef)*3 // 4),\n",
    "\t\t]\n",
    "\telif mode==\"EXTREME\":\n",
    "\t\toffsets = [\n",
    "\t\t\t((heightHR-heightRef) // 2,(widthHR-widthRef) // 2),\n",
    "\t\t\t(0,0),\n",
    "\t\t\t(0,widthHR-widthRef),\n",
    "\t\t\t(heightHR-heightRef,0),\n",
    "\t\t\t(heightHR-heightRef,widthHR-widthRef),\n",
    "\t\t]\n",
    "\toutput = [crop_ref(image, scale,offset) for offset in offsets]\n",
    "\treturn output"
   ]
  },
  {
   "cell_type": "markdown",
   "metadata": {},
   "source": [
    "Main"
   ]
  },
  {
   "cell_type": "code",
   "execution_count": 51,
   "metadata": {},
   "outputs": [],
   "source": [
    "os.makedirs(ref_dir, exist_ok = True) \n",
    "os.makedirs(lr_dir, exist_ok = True) \n",
    "os.makedirs(hr_dir, exist_ok = True) \n",
    "\n",
    "for input in os.listdir(in_dir):  \n",
    "    name, ext = os.path.splitext(input)\n",
    "\n",
    "    input_full = os.path.join(in_dir, name+ext )\n",
    "    hr = cv2.imread(input_full)\n",
    "    assert hr is not None\n",
    "\n",
    "    refs = crop_multi_ref(hr,scale,mode)    \n",
    "    for idx, ref in enumerate(refs):\n",
    "        ref, _ = ref\n",
    "        ref_full = os.path.join(ref_dir, f\"{name}-{idx}{ext}\")\n",
    "        assert cv2.imwrite(ref_full, ref)\n",
    "\n",
    "        lr_full = os.path.join(lr_dir, f\"{name}-{idx}{ext}\")\n",
    "        lr = downscale_LR(hr,scale)\n",
    "        assert cv2.imwrite(lr_full, lr)\n",
    "\n",
    "        hr_full = os.path.join(hr_dir, f\"{name}-{idx}{ext}\")\n",
    "        assert cv2.imwrite(hr_full, hr)"
   ]
  }
 ],
 "metadata": {
  "kernelspec": {
   "display_name": "Python 3.7.13 ('CSC2529')",
   "language": "python",
   "name": "python3"
  },
  "language_info": {
   "codemirror_mode": {
    "name": "ipython",
    "version": 3
   },
   "file_extension": ".py",
   "mimetype": "text/x-python",
   "name": "python",
   "nbconvert_exporter": "python",
   "pygments_lexer": "ipython3",
   "version": "3.7.13"
  },
  "orig_nbformat": 4,
  "vscode": {
   "interpreter": {
    "hash": "2ab471e004f2adbfc6b826cd2d1b682d0bba64343dcc48fbc9403112ac2d9b0b"
   }
  }
 },
 "nbformat": 4,
 "nbformat_minor": 2
}
