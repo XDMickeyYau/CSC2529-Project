{
 "cells": [
  {
   "cell_type": "code",
   "execution_count": 157,
   "metadata": {},
   "outputs": [],
   "source": [
    "import random\n",
    "import numpy as np\n",
    "import os\n",
    "from os.path import join\n",
    "import torch\n",
    "from multiprocessing.dummy import Pool\n",
    "from tqdm import tqdm\n",
    "import cv2"
   ]
  },
  {
   "cell_type": "code",
   "execution_count": 158,
   "metadata": {},
   "outputs": [],
   "source": [
    "import matplotlib.pyplot as plt"
   ]
  },
  {
   "cell_type": "code",
   "execution_count": 159,
   "metadata": {},
   "outputs": [],
   "source": [
    "scale = 2\n",
    "input_dir = f\"HR_raw\"\n",
    "output_dir = f\"LR_rawx{scale}\" \n",
    "test = False\n",
    "mode=\"EXTREME\""
   ]
  },
  {
   "cell_type": "markdown",
   "metadata": {},
   "source": [
    "Function"
   ]
  },
  {
   "cell_type": "code",
   "execution_count": 160,
   "metadata": {},
   "outputs": [],
   "source": [
    "def show(img):\n",
    "    plt.imshow(cv2.cvtColor(img,cv2.COLOR_BGR2RGB))"
   ]
  },
  {
   "cell_type": "code",
   "execution_count": 161,
   "metadata": {},
   "outputs": [],
   "source": [
    "def crop_ref(image, scale,offset=(0,0)):\n",
    "\theightHR, widthHR = image.shape[:2]\n",
    "\theightRef, widthRef = heightHR // scale , widthHR // scale \n",
    "\tdownRef, rightRef = offset\n",
    "\tcrop_coord = [downRef, downRef+heightRef, rightRef, rightRef+widthRef]\n",
    "\treturn image[downRef:downRef+heightRef, rightRef:rightRef+widthRef], crop_coord\n"
   ]
  },
  {
   "cell_type": "code",
   "execution_count": 162,
   "metadata": {},
   "outputs": [],
   "source": [
    "def crop_multi_ref(image, scale, mode=\"REGULAR\"):\n",
    "\theightHR, widthHR = image.shape[:2]\n",
    "\theightRef, widthRef = heightHR // scale , widthHR // scale \n",
    "\toffset = []\n",
    "\tif mode==\"REGULAR\":\n",
    "\t\toffsets = [\n",
    "\t\t\t((heightHR-heightRef) // 2,(widthHR-widthRef) // 2),\n",
    "\t\t\t((heightHR-heightRef) // 4,(widthHR-widthRef) // 4),\n",
    "\t\t\t((heightHR-heightRef) // 4,(widthHR-widthRef)*3 // 4),\n",
    "\t\t\t((heightHR-heightRef)*3 // 4,(widthHR-widthRef) // 4),\n",
    "\t\t\t((heightHR-heightRef)*3 // 4,(widthHR-widthRef)*3 // 4),\n",
    "\t\t]\n",
    "\telif mode==\"EXTREME\":\n",
    "\t\toffsets = [\n",
    "\t\t\t((heightHR-heightRef) // 2,(widthHR-widthRef) // 2),\n",
    "\t\t\t(0,0),\n",
    "\t\t\t(0,widthHR-widthRef),\n",
    "\t\t\t(heightHR-heightRef,0),\n",
    "\t\t\t(heightHR-heightRef,widthHR-widthRef),\n",
    "\t\t]\n",
    "\toutput = [crop_ref(image, scale,offset) for offset in offsets]\n",
    "\treturn output"
   ]
  },
  {
   "cell_type": "markdown",
   "metadata": {},
   "source": [
    "Main"
   ]
  },
  {
   "cell_type": "code",
   "execution_count": 163,
   "metadata": {},
   "outputs": [],
   "source": [
    "for input in os.listdir(input_dir):  \n",
    "    name, ext = os.path.splitext(input)\n",
    "    input_full = os.path.join(input_dir, name+ext )\n",
    "    img = cv2.imread(input_full)\n",
    "    assert img is not None\n",
    "\n",
    "    output = crop_multi_ref(img,scale,mode)\n",
    "\n",
    "    os.makedirs(output_dir, exist_ok = True) \n",
    "    for idx, i in enumerate(output):\n",
    "        i, _ = i\n",
    "        output_full = os.path.join(output_dir, f\"{name}-ref{idx}{ext}\")\n",
    "        assert cv2.imwrite(output_full, i)"
   ]
  }
 ],
 "metadata": {
  "kernelspec": {
   "display_name": "Python 3.7.13 ('CSC2529')",
   "language": "python",
   "name": "python3"
  },
  "language_info": {
   "codemirror_mode": {
    "name": "ipython",
    "version": 3
   },
   "file_extension": ".py",
   "mimetype": "text/x-python",
   "name": "python",
   "nbconvert_exporter": "python",
   "pygments_lexer": "ipython3",
   "version": "3.7.13"
  },
  "orig_nbformat": 4,
  "vscode": {
   "interpreter": {
    "hash": "2ab471e004f2adbfc6b826cd2d1b682d0bba64343dcc48fbc9403112ac2d9b0b"
   }
  }
 },
 "nbformat": 4,
 "nbformat_minor": 2
}
